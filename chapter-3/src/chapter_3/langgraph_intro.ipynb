{
 "cells": [
  {
   "cell_type": "code",
   "execution_count": 4,
   "id": "008fd2f6",
   "metadata": {},
   "outputs": [],
   "source": [
    "!pip install -qU \\\n",
    "  langchain-core \\\n",
    "  langchain-google-genai \\\n",
    "  langchain-community \\\n",
    "  langgraph\n",
    "\n",
    "%load_ext autoreload\n",
    "%autoreload 2"
   ]
  },
  {
   "cell_type": "code",
   "execution_count": 5,
   "id": "b46ca288",
   "metadata": {},
   "outputs": [],
   "source": [
    "from typing_extensions import TypedDict\n",
    "\n",
    "class JobApplicationState(TypedDict):\n",
    "    job_description: str\n",
    "    is_suitable: bool\n",
    "    application: str"
   ]
  },
  {
   "cell_type": "code",
   "execution_count": 10,
   "id": "852fc5f7",
   "metadata": {},
   "outputs": [],
   "source": [
    "from langgraph.graph import StateGraph, START, END\n",
    "\n",
    "def analyze_job_description(state):\n",
    "    print(\"...Analyzing a provided job description...\")\n",
    "    return {\"is_suitable\" : len(job_description) > 100 }\n",
    "\n",
    "def generate_application(state):\n",
    "    print(\"...generating application...\")\n",
    "    return {\"application\": \"some_fake_application\"}\n",
    "\n",
    "builder = StateGraph(JobApplicationState)\n",
    "\n",
    "builder.add_node(\"analyze_job_description\", analyze_job_description)\n",
    "builder.add_node(\"generate_application\", generate_application)\n",
    "\n",
    "builder.add_edge(START, \"analyze_job_description\")\n",
    "builder.add_edge(\"analyze_job_description\", \"generate_application\")\n",
    "builder.add_edge(\"generate_application\", END)\n",
    "\n",
    "graph = builder.compile()"
   ]
  },
  {
   "cell_type": "code",
   "execution_count": 11,
   "id": "91e30110",
   "metadata": {},
   "outputs": [
    {
     "data": {
      "image/png": "[encoded data removed]",
      "text/plain": [
       "<IPython.core.display.Image object>"
      ]
     },
     "metadata": {},
     "output_type": "display_data"
    }
   ],
   "source": [
    "from IPython.display import Image, display\n",
    "\n",
    "display(Image(graph.get_graph().draw_mermaid_png()))"
   ]
  },
  {
   "cell_type": "code",
   "execution_count": null,
   "id": "3aff00ab",
   "metadata": {},
   "outputs": [],
   "source": []
  }
 ],
 "metadata": {
  "kernelspec": {
   "display_name": "Python 3 (ipykernel)",
   "language": "python",
   "name": "python3"
  },
  "language_info": {
   "codemirror_mode": {
    "name": "ipython",
    "version": 3
   },
   "file_extension": ".py",
   "mimetype": "text/x-python",
   "name": "python",
   "nbconvert_exporter": "python",
   "pygments_lexer": "ipython3",
   "version": "3.10.12"
  }
 },
 "nbformat": 4,
 "nbformat_minor": 5
}
