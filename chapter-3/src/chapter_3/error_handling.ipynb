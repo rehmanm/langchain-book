{
 "cells": [
  {
   "cell_type": "code",
   "execution_count": 1,
   "id": "ef22d8dd-ce7a-4ca5-902a-fa79cfa53ddc",
   "metadata": {},
   "outputs": [],
   "source": [
    "!pip install -qU \\\n",
    "  langchain-core \\\n",
    "  langchain-google-genai \\\n",
    "  langchain-community \\\n",
    "  langgraph\n",
    "\n",
    "%load_ext autoreload\n",
    "%autoreload 2"
   ]
  },
  {
   "cell_type": "code",
   "execution_count": 2,
   "id": "da00974f-f436-406b-bf84-c23378b1baa7",
   "metadata": {},
   "outputs": [
    {
     "name": "stdin",
     "output_type": "stream",
     "text": [
      "GOOGLE_API_KEY:  ········\n"
     ]
    }
   ],
   "source": [
    "from config import set_environment\n",
    "\n",
    "set_environment(\"GOOGLE_API_KEY\")"
   ]
  },
  {
   "cell_type": "code",
   "execution_count": 30,
   "id": "8e16cd64-9ec9-45cc-801e-24e13906f3e8",
   "metadata": {},
   "outputs": [],
   "source": [
    "from langchain_google_genai import ChatGoogleGenerativeAI\n",
    "\n",
    "llm = ChatGoogleGenerativeAI(model=\"gemini-2.0-flash\", temperature=0.0) "
   ]
  },
  {
   "cell_type": "code",
   "execution_count": 4,
   "id": "1ee7c2c9-69bd-4d2c-8339-25444689f992",
   "metadata": {},
   "outputs": [],
   "source": [
    "job_description : str = \"\"\"\n",
    "A Java Developer designs, develops, tests, and maintains Java-based applications, ensuring high performance, scalability, and security. Responsibilities include writing clean code, collaborating with cross-functional teams, troubleshooting issues, integrating with databases and APIs, and documenting technical processes. Key requirements are strong Java and framework (e.g., Spring, Hibernate) proficiency, database skills, and experience with version control (e.g., Git). \n",
    "Key Responsibilities\n",
    "Design and Development: Create and implement robust, high-volume, and low-latency Java applications. \n",
    "Code Quality: Write clean, efficient, testable, and scalable code following best practices. \n",
    "Requirement Analysis: Analyze user requirements and define system objectives and functionality. \n",
    "Integration: Integrate applications with databases and third-party services using APIs. \n",
    "Testing & Debugging: Conduct thorough testing, debug complex issues, and resolve application problems. \n",
    "Deployment: Participate in the full software development lifecycle, including deployment and maintenance. \n",
    "Documentation: Prepare detailed documentation for application designs, technical specifications, and user support. \n",
    "Team Collaboration: Work with cross-functional teams, such as designers, product owners, and other engineers, to deliver applications. \n",
    "\n",
    "\"\"\"\n"
   ]
  },
  {
   "cell_type": "code",
   "execution_count": 5,
   "id": "b2719f1c-2ee9-468d-9bed-f2f4fc9a50b0",
   "metadata": {},
   "outputs": [],
   "source": [
    "prompt_template_enum = (\n",
    "    \"\"\"\n",
    "    Given a job description, decide whether it suits a junior Java\n",
    "    developer.\n",
    "    Job Description:\n",
    "\n",
    "    {job_description}\n",
    "\n",
    "    Answer only YES or NO\n",
    "    \"\"\"\n",
    ")\n",
    "\n"
   ]
  },
  {
   "cell_type": "code",
   "execution_count": 6,
   "id": "047d39a3-dadd-41db-93d8-1de24e6af1cb",
   "metadata": {},
   "outputs": [],
   "source": [
    "from enum import Enum\n",
    "\n",
    "from langchain.output_parsers import EnumOutputParser\n",
    "from langchain_core.messages import HumanMessage"
   ]
  },
  {
   "cell_type": "code",
   "execution_count": 7,
   "id": "48a264b1-f072-4723-9cf0-ce8386c75845",
   "metadata": {},
   "outputs": [],
   "source": [
    "class IsSuitableJobEnum(Enum):\n",
    "    YES = \"YES\"\n",
    "    NO = \"NO\"\n",
    "\n",
    "parser = EnumOutputParser(enum=IsSuitableJobEnum)\n",
    "\n",
    "assert parser.invoke(\"NO\") == IsSuitableJobEnum.NO\n",
    "assert parser.invoke(\"YES\\n\") == IsSuitableJobEnum.YES\n",
    "assert parser.invoke(\"YES \\n\") == IsSuitableJobEnum.YES\n"
   ]
  },
  {
   "cell_type": "code",
   "execution_count": 33,
   "id": "fbb74428-7642-4ddf-ad56-bafe82ef7515",
   "metadata": {},
   "outputs": [
    {
     "name": "stdout",
     "output_type": "stream",
     "text": [
      "IsSuitableJobEnum.YES\n"
     ]
    }
   ],
   "source": [
    "chain = llm | parser\n",
    "\n",
    "result = chain.invoke(prompt_template_enum.format(job_description = job_description))\n",
    "\n",
    "print(result)"
   ]
  },
  {
   "cell_type": "code",
   "execution_count": 43,
   "id": "954345ea-46cd-4e56-b960-b057ae04f4c6",
   "metadata": {},
   "outputs": [],
   "source": [
    "from langchain_core.language_models import GenericFakeChatModel\n",
    "\n",
    "from langchain_core.messages import AIMessage\n",
    "\n",
    "class MessageIterator:\n",
    "\n",
    "    def __init__(self):\n",
    "        self.count = 0\n",
    "\n",
    "    def __iter__(self):\n",
    "        return self\n",
    "\n",
    "    def __next__(self):\n",
    "        print(\"calling_next\")\n",
    "        self.count += 1\n",
    "        if self.count % 2 == 1:\n",
    "            raise ValueError(\"Something went wrong\")\n",
    "        return AIMessage(content=f\"YES\")\n",
    "\n",
    "\n",
    "fake_llm = GenericFakeChatModel(messages = MessageIterator())\n"
   ]
  },
  {
   "cell_type": "code",
   "execution_count": 38,
   "id": "c33a8bdb",
   "metadata": {},
   "outputs": [
    {
     "data": {
      "image/png": "[encoded data removed]",
      "text/plain": [
       "<IPython.core.display.Image object>"
      ]
     },
     "metadata": {},
     "output_type": "display_data"
    }
   ],
   "source": [
    "from typing_extensions import TypedDict\n",
    "from langchain_core.runnables.config import RunnableConfig\n",
    "from langgraph.graph import StateGraph, START, END\n",
    "import logging\n",
    "\n",
    "\n",
    "logger = logging.getLogger(__name__)\n",
    "\n",
    "class JobApplicationState(TypedDict):\n",
    "    job_description: str\n",
    "    is_suitable: IsSuitableJobEnum\n",
    "    application: str\n",
    "\n",
    "llms = {\n",
    "    \"fake\": fake_llm,\n",
    "    \"Google\": llm\n",
    "}\n",
    "    \n",
    "def analyze_job_description(state, config: RunnableConfig):\n",
    "    try:\n",
    "        model_provider = config[\"configurable\"].get(\"model_provider\", \"Google\")\n",
    "        llm_selected = llms[model_provider]\n",
    "        analyze_chain = llm_selected | parser\n",
    "        prompt = prompt_template_enum.format(job_description = state[\"job_description\"])\n",
    "        result = analyze_chain.invoke(prompt)\n",
    "        return {\n",
    "            \"is_suitable\": result\n",
    "        }\n",
    "    except Exception as e:\n",
    "        logger.error(f\"Exception {e} occured while executing analyze_job_description\")\n",
    "        return {\n",
    "            \"is_suitable\": IsSuitableJobEnum.NO\n",
    "        }\n",
    "\n",
    "\n",
    " \n",
    "\n",
    "def is_suitable_condition(state):\n",
    "    return state[\"is_suitable\"] == IsSuitableJobEnum.YES\n",
    "\n",
    "def generate_application(state):\n",
    "    print(\"...generating application...\")\n",
    "    return {\"application\": \"some_fake_application\", \"actions\": [\"action2\"]}\n",
    "    \n",
    "builder = StateGraph(JobApplicationState)\n",
    "\n",
    "builder.add_node(\"analyze_job_description\", analyze_job_description)\n",
    "builder.add_node(\"generate_application\", generate_application)\n",
    "\n",
    "builder.add_edge(START, \"analyze_job_description\")\n",
    "builder.add_conditional_edges(\n",
    "    \"analyze_job_description\", is_suitable_condition,\n",
    "    {\n",
    "        True: \"generate_application\",\n",
    "        False: END\n",
    "    }\n",
    ")\n",
    "\n",
    "builder.add_edge(\"generate_application\", END)\n",
    "graph = builder.compile()\n",
    "\n",
    "from IPython.display import Image, display\n",
    "display(Image(graph.get_graph().draw_mermaid_png()))\n",
    "\n"
   ]
  },
  {
   "cell_type": "code",
   "execution_count": 40,
   "id": "617b6695-1b45-419b-92fe-c8b3765d9662",
   "metadata": {},
   "outputs": [
    {
     "name": "stdout",
     "output_type": "stream",
     "text": [
      "...generating application...\n"
     ]
    },
    {
     "data": {
      "text/plain": [
       "{'job_description': 'fake_jd',\n",
       " 'is_suitable': <IsSuitableJobEnum.YES: 'YES'>,\n",
       " 'application': 'some_fake_application'}"
      ]
     },
     "execution_count": 40,
     "metadata": {},
     "output_type": "execute_result"
    }
   ],
   "source": [
    "graph.invoke({\"job_description\":\"fake_jd\"}, config={\"configurable\":\n",
    "{\"model_provider\": \"fake\"}})"
   ]
  },
  {
   "cell_type": "code",
   "execution_count": 44,
   "id": "acfdba5d",
   "metadata": {},
   "outputs": [
    {
     "name": "stdout",
     "output_type": "stream",
     "text": [
      "calling_next\n",
      "calling_next\n",
      "IsSuitableJobEnum.YES\n"
     ]
    }
   ],
   "source": [
    "fake_llm_retry = fake_llm.with_retry(\n",
    "    retry_if_exception_type=(ValueError,),\n",
    "    wait_exponential_jitter = True,\n",
    "    stop_after_attempt=2    \n",
    ")\n",
    "\n",
    "chain = fake_llm_retry | parser\n",
    "\n",
    "result = chain.invoke(prompt_template_enum.format(job_description = job_description))\n",
    "\n",
    "print(result)"
   ]
  },
  {
   "cell_type": "code",
   "execution_count": null,
   "id": "c2bb6e19-f731-4210-a504-aaa5c0027f03",
   "metadata": {},
   "outputs": [],
   "source": []
  }
 ],
 "metadata": {
  "kernelspec": {
   "display_name": "Python 3 (ipykernel)",
   "language": "python",
   "name": "python3"
  },
  "language_info": {
   "codemirror_mode": {
    "name": "ipython",
    "version": 3
   },
   "file_extension": ".py",
   "mimetype": "text/x-python",
   "name": "python",
   "nbconvert_exporter": "python",
   "pygments_lexer": "ipython3",
   "version": "3.13.7"
  }
 },
 "nbformat": 4,
 "nbformat_minor": 5
}
