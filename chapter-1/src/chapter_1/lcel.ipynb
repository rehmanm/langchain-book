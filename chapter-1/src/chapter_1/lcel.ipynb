{
 "cells": [
  {
   "cell_type": "code",
   "execution_count": 1,
   "id": "6f3470d7",
   "metadata": {},
   "outputs": [],
   "source": [
    "# setting the environment variables, the keys\n",
    "import sys\n",
    "import os\n",
    "\n",
    "sys.path.insert(0, os.path.abspath('..'))\n",
    "\n",
    "%load_ext autoreload\n",
    "%autoreload 2"
   ]
  },
  {
   "cell_type": "code",
   "execution_count": 2,
   "id": "1ba398dc",
   "metadata": {},
   "outputs": [
    {
     "name": "stdout",
     "output_type": "stream",
     "text": [
      "/home/rehmanm/learning/python-code/langchain/book/chapter-1/src/chapter_1\n",
      "['__pycache__', 'chat_model.ipynb', 'config.py', 'fake_llm.ipynb', '.ipynb_checkpoints', 'lcel.ipynb', '__init__.py']\n"
     ]
    }
   ],
   "source": [
    "print(os.getcwd())\n",
    "print(os.listdir())"
   ]
  },
  {
   "cell_type": "code",
   "execution_count": 3,
   "id": "b8739c2a",
   "metadata": {},
   "outputs": [],
   "source": [
    "from config import set_environment\n",
    "\n",
    "set_environment()"
   ]
  },
  {
   "cell_type": "code",
   "execution_count": 4,
   "id": "a1c85199",
   "metadata": {},
   "outputs": [],
   "source": [
    "from langchain_google_genai import GoogleGenerativeAI\n",
    "from langchain_core.messages import SystemMessage, HumanMessage "
   ]
  },
  {
   "cell_type": "code",
   "execution_count": 5,
   "id": "8ad5b120",
   "metadata": {},
   "outputs": [],
   "source": [
    "from langchain_core.prompts import PromptTemplate\n",
    "from langchain_core.output_parsers import StrOutputParser"
   ]
  },
  {
   "cell_type": "code",
   "execution_count": 6,
   "id": "64bcb923",
   "metadata": {},
   "outputs": [],
   "source": [
    "llm = GoogleGenerativeAI(model=\"gemini-2.0-flash\")\n",
    "output_parser = StrOutputParser()"
   ]
  },
  {
   "cell_type": "code",
   "execution_count": 7,
   "id": "8c59e863",
   "metadata": {},
   "outputs": [
    {
     "name": "stdout",
     "output_type": "stream",
     "text": [
      "Why do programmers prefer dark mode?\n",
      "\n",
      "Because light attracts bugs!\n"
     ]
    }
   ],
   "source": [
    "prompt = PromptTemplate.from_template(\"Tell me a joke about {topic}\")\n",
    "\n",
    "chain = prompt | llm | output_parser\n",
    "\n",
    "result = chain.invoke({\"topic\" : \"programming\"})\n",
    "print(result)"
   ]
  },
  {
   "cell_type": "markdown",
   "id": "a33c2b3c",
   "metadata": {},
   "source": [
    "## complex lcel example"
   ]
  },
  {
   "cell_type": "code",
   "execution_count": 8,
   "id": "c3d61282",
   "metadata": {},
   "outputs": [],
   "source": [
    "story_prompt = PromptTemplate.from_template(\"Write a story about {topic}\")\n",
    "story_chain = story_prompt | llm | output_parser\n",
    "\n",
    "story = story_chain.invoke(\"A rainy day\")"
   ]
  },
  {
   "cell_type": "code",
   "execution_count": 9,
   "id": "4d2c9f37",
   "metadata": {},
   "outputs": [
    {
     "name": "stdout",
     "output_type": "stream",
     "text": [
      "The story's mood is predominantly **melancholy, hopeful, and comforting.** Here's a breakdown:\n",
      "\n",
      "*   **Melancholy:** The story begins with a sense of dreariness and gloom established by the description of the rainy day. Words like \"grey wash,\" \"blurred,\" \"seeped into your bones,\" and \"relentless percussion\" evoke a feeling of sadness and quiet despair. Elara's lateness and huddling in her worn raincoat contribute to this feeling of isolation and perhaps a hint of hardship.\n",
      "*   **Hopeful:** Despite the initial gloom, the story offers a glimmer of hope. The \"familiar glow\" of Mrs. Hawthorne's window, the \"warm, amber light,\" and the \"welcome melody\" of the bell create a sense of anticipation and promise.\n",
      "*   **Comforting:** The description of Mrs. Hawthorne and her shop establishes a feeling of warmth and security. Words like \"warm, comforting rumble,\" \"haven,\" \"gentle symphony of time,\" and \"chamomile tea\" create a cozy and inviting atmosphere. The act of Elara being cared for by Mrs. Hawthorne further enhances this feeling of comfort and refuge.\n",
      "*   **Nostalgic:** The antique shop setting with its \"forgotten treasures\" and Mrs. Hawthorne's stories lends a nostalgic feel, hinting at the beauty and value of the past. The elderly gentleman examining the locket reinforces this nostalgic element.\n",
      "*   **Peaceful:** The overall atmosphere within the shop is peaceful. The \"quiet hum\" of the shop, the ticking clocks, and Elara's role as a \"quiet observer\" contribute to this sense of tranquility.\n",
      "\n",
      "The mood evolves throughout the story. It begins with a stronger sense of melancholy due to the rain and Elara's situation. However, as Elara enters the shop, the mood shifts towards comfort and hope. By the end, the rain has subsided, and the mood becomes one of peace, clarity, and a renewed appreciation for beauty, suggesting a positive transformation. The final paragraph emphasizes this shift, as the world transforms from a \"watercolor painting gone wrong\" to a \"masterpiece.\"\n"
     ]
    }
   ],
   "source": [
    "analysis_prompt = PromptTemplate.from_template(\"Anlalyze the following story mood: {story}\")\n",
    "analysis_chain = analysis_prompt | llm | output_parser\n",
    "\n",
    "analysis =analysis_chain.invoke({\"story\": story})\n",
    "\n",
    "print(analysis)"
   ]
  },
  {
   "cell_type": "code",
   "execution_count": 16,
   "id": "71544938",
   "metadata": {},
   "outputs": [
    {
     "name": "stdout",
     "output_type": "stream",
     "text": [
      "The story's mood is predominantly **melancholy and somber, gradually shifting towards hopeful and heartwarming.**\n",
      "\n",
      "Here's a breakdown of the mood elements:\n",
      "\n",
      "*   **Beginning:** The opening paragraphs establish a strong sense of gloom, sadness, and isolation. Words like \"smudges of grey,\" \"mournful song,\" \"lashed,\" \"indistinct,\" \"stale,\" \"huddled,\" \"overcast,\" \"metallic tang of rain\" all contribute to this mood. Elsie's loneliness and the description of the weather mirroring her emotional state reinforce the initial feeling of sadness.\n",
      "*   **Middle:** The mood begins to lighten as Elsie finds solace in baking. The description of the baking process is calming and comforting: \"rhythm of the kitchen,\" \"whir of the mixer,\" \"gentle clinking of bowls,\" \"rising warmth of the oven.\" These details offer a glimmer of hope and a sense of purpose. The introduction of Clara, also lost and vulnerable, introduces an opportunity for connection.\n",
      "*   **End:** The turning point is the shared experience of the muffins. Clara's reaction (\"It tastes like... hope\") is pivotal in shifting the mood. The bakery gradually filling with people, the sound of conversation, and Elsie's genuine smile all contribute to a feeling of warmth, connection, and optimism. The final paragraphs emphasize that even in bleak circumstances, hope and warmth can be found through shared vulnerability and simple comforts.\n",
      "\n",
      "**In summary:** The story begins with a heavy atmosphere of sadness and loneliness, but gradually transitions to a mood of hope, warmth, and connection, thanks to the power of simple acts of kindness and the comforting nature of food. The rain outside serves as a backdrop to the internal emotional journey of Elsie and Clara, highlighting the contrast between the external gloom and the emerging internal sunshine.\n"
     ]
    }
   ],
   "source": [
    "output_prompt = PromptTemplate.from_template(\"Here is the story \\n{story} \\n and it is the mode \\n{mode}\")\n",
    "story_with_analysis = story_chain | analysis_chain \n",
    "\n",
    "print(story_with_analysis.invoke({\"topic\": \"A rainy day\"}))"
   ]
  },
  {
   "cell_type": "code",
   "execution_count": 20,
   "id": "6ec7f319",
   "metadata": {},
   "outputs": [
    {
     "name": "stdout",
     "output_type": "stream",
     "text": [
      "dict_keys(['topic', 'story', 'analysis'])\n"
     ]
    }
   ],
   "source": [
    "from langchain_core.runnables import RunnablePassthrough\n",
    "# Using RunnablePassthrough.assign to preserve data\n",
    "enhanced_chain = RunnablePassthrough.assign(\n",
    "    story=story_chain  \n",
    ").assign(\n",
    "    analysis=analysis_chain \n",
    ")\n",
    "result = enhanced_chain.invoke({\"topic\": \"a rainy day\"})\n",
    "print(result.keys())"
   ]
  },
  {
   "cell_type": "code",
   "execution_count": 21,
   "id": "b0682bb5",
   "metadata": {},
   "outputs": [
    {
     "data": {
      "text/plain": [
       "{'topic': 'a rainy day',\n",
       " 'story': 'The sky was a bruised plum, heavy and low, when Elara woke. A fat raindrop, daring and bold, splattered against her windowpane, followed by a chorus of its brethren. It was a day for staying inside, a day for the cozy embrace of blankets and the murmur of the rain orchestra outside.\\n\\nElara, a self-proclaimed sun worshipper, usually dreaded days like this. But today, a strange contentment settled over her. She stretched, listening to the rhythmic drumming on the roof, and felt a sense of permission to simply *be*.\\n\\nDownstairs, the aroma of cinnamon and damp earth filled the air. Her grandmother, Nana Rose, was already in the kitchen, humming a wordless tune as she stirred a pot on the stove.\\n\\n\"Morning, sleepyhead,\" Nana Rose said, her voice warm and crinkled like old parchment. \"Rainy day stew, your favorite.\"\\n\\nElara smiled. Nana Rose\\'s rainy day stew was legendary. A hearty concoction of lentils, vegetables, and secret spices that always seemed to chase away the gloom.\\n\\nThey ate in comfortable silence, the only sounds the clinking of spoons against bowls and the relentless patter of rain. Nana Rose told stories of her childhood, of rainy days spent building forts in the attic and reading by candlelight. Elara, usually glued to her phone, found herself captivated by the tales, the digital world forgotten.\\n\\nAfter breakfast, Elara wandered over to the bookshelf, a towering structure filled with the ghosts of stories past. She ran her fingers along the spines, a tactile pleasure she rarely indulged in. Her eyes landed on a worn, leather-bound volume: \"Wuthering Heights.\" She\\'d attempted it once before, but the density of the language had deterred her. Today, however, it felt right.\\n\\nCurled up on the window seat, a steaming mug of tea beside her, Elara plunged into the tempestuous world of Heathcliff and Catherine. The rain outside mirrored the storm raging within the pages, amplifying the drama and heartbreak. She lost herself in the story, the hours melting away like snowflakes on a warm hand.\\n\\nAs the afternoon wore on, the rain intensified. The wind howled, rattling the windows and shaking the ancient oak tree in the garden. Nana Rose lit a fire in the fireplace, casting dancing shadows on the walls.\\n\\nThey spent the rest of the day in companionable quiet. Nana Rose knitted, her needles clicking a soothing rhythm, while Elara read, occasionally sharing a passage that struck her. They talked about everything and nothing, about dreams and regrets, about the simple pleasures of life.\\n\\nAs dusk settled, the rain finally began to subside. The sky, no longer bruised, was now a soft, watery grey. A sliver of pale light peeked through the clouds, painting the wet landscape in a shimmering sheen.\\n\\nElara looked up from her book, a sense of profound peace settling over her. The rainy day, which she had initially dreaded, had turned out to be a gift. A day of connection, of quiet contemplation, of rediscovering the simple joys of life.\\n\\n\"Thank you, Nana Rose,\" she said, her voice soft. \"For the stew, the stories, and the rainy day.\"\\n\\nNana Rose smiled, her eyes twinkling. \"The rain brings many things, Elara,\" she said. \"Sometimes, it brings us closer to ourselves.\"\\n\\nAnd as Elara looked out at the rain-washed world, she knew that Nana Rose was right. The rain had washed away the distractions and the noise, leaving behind a space for her to connect with her grandmother, with herself, and with the beauty of a world reborn after the storm. It was a day she would cherish, a reminder that even the darkest clouds can hold the promise of a new beginning.',\n",
       " 'analysis': 'The mood of the story is predominantly **peaceful, cozy, and contemplative.** Here\\'s a breakdown of the elements contributing to this mood:\\n\\n*   **Initial Acceptance and Contentment:** Despite usually disliking rainy days, Elara finds a \"strange contentment\" upon waking. This immediately sets a tone of acceptance and a shift in perspective.\\n\\n*   **Sensory Details:** The description of the rain, the aroma of cinnamon and damp earth, the crackling fire, and the warmth of the tea all contribute to a cozy and comforting atmosphere.\\n\\n*   **Nana Rose\\'s Presence:** Nana Rose is a source of warmth, wisdom, and comfort. Her presence and actions (making stew, telling stories, knitting) create a sense of security and love.\\n\\n*   **Simple Pleasures:** The story emphasizes the enjoyment of simple pleasures like reading, eating stew, listening to stories, and spending time with loved ones.\\n\\n*   **Quiet Connection:** The comfortable silence and the meaningful conversations between Elara and Nana Rose highlight the importance of connection and shared experiences.\\n\\n*   **Rediscovery:** Elara rediscovers her love of reading and connects with her grandmother on a deeper level. This sense of rediscovery adds to the overall positive and reflective mood.\\n\\n*   **Transformation:** The initial dread of the rainy day transforms into a feeling of gratitude and appreciation. This transformation reinforces the theme of finding beauty and value in unexpected places.\\n\\n*   **Resolution and Reflection:** The ending is peaceful and reflective, with Elara acknowledging the gift of the rainy day and the wisdom of her grandmother.\\n\\nThe story avoids elements that would create a mood of tension, fear, or sadness. Instead, it focuses on creating a warm, inviting, and emotionally fulfilling experience for the reader. The use of descriptive language and sensory details helps to immerse the reader in the cozy and contemplative atmosphere of the rainy day.'}"
      ]
     },
     "execution_count": 21,
     "metadata": {},
     "output_type": "execute_result"
    }
   ],
   "source": [
    "result"
   ]
  },
  {
   "cell_type": "code",
   "execution_count": 22,
   "id": "547eafa1",
   "metadata": {},
   "outputs": [
    {
     "name": "stdout",
     "output_type": "stream",
     "text": [
      "dict_keys(['story', 'topic', 'analysis'])\n"
     ]
    }
   ],
   "source": [
    "from operator import itemgetter\n",
    "# Alternative approach using dictionary construction\n",
    "manual_chain = (\n",
    "RunnablePassthrough() | # Pass through input\n",
    "{\n",
    "\"story\": story_chain, # Add story result\n",
    "\"topic\": itemgetter(\"topic\") # Preserve original topic\n",
    "} |\n",
    "RunnablePassthrough().assign( # Add analysis based on story\n",
    "analysis=analysis_chain\n",
    ")\n",
    ")\n",
    "result = manual_chain.invoke({\"topic\": \"a rainy day\"})\n",
    "print(result.keys()) # Output: dict_keys(['story', 'topic', 'analysis'])"
   ]
  },
  {
   "cell_type": "code",
   "execution_count": 23,
   "id": "8161912c",
   "metadata": {},
   "outputs": [
    {
     "data": {
      "text/plain": [
       "{'story': 'The rain started as a whisper, a delicate drumming on the windowpane that woke Elara before her alarm. She burrowed deeper under the quilt, a worn patchwork of blues and greens, hoping the sound would fade. But the whisper quickly escalated into a steady, insistent downpour.\\n\\nElara groaned and peeled back the covers. The room was painted in shades of grey, the light filtered and muted by the thick curtain of rain outside. It was the kind of rain that promised to last all day, the kind that seeped into your bones and made you crave hot tea and a good book.\\n\\nShe shuffled downstairs, the old wooden floorboards creaking a mournful melody. The aroma of freshly brewed coffee already filled the air, a comforting beacon in the gloomy morning. Her grandmother, Nana Rose, was humming softly as she poured a steaming mug.\\n\\n“Morning, sleepyhead,” Nana Rose said, her eyes crinkling at the corners. “Looks like a perfect day for staying inside.”\\n\\nElara nodded, gratefully accepting the mug. “That’s what I was thinking. Any plans?”\\n\\nNana Rose smiled. “Well, I was going to tackle that mountain of mending, but maybe… maybe we could bake something?”\\n\\nThe idea sparked a warmth in Elara’s chest. Baking with Nana Rose was a ritual, a connection to generations past. They’d pull out Nana Rose’s old, flour-dusted cookbook, its pages stained with memories, and create something delicious together.\\n\\nThey decided on apple pie, the aroma of cinnamon and warm apples soon filling the kitchen. Elara helped roll out the dough, her fingers sticky with flour. Nana Rose told stories of her childhood, of rainy days spent playing in the attic with her siblings, of the comfort of her own grandmother’s baking.\\n\\nAs the pie baked, they sat by the window, watching the rain lash against the glass. The world outside seemed to blur, the trees swaying in the wind like dancers. Elara felt a sense of peace she hadn’t experienced in weeks. The constant pressure of deadlines and responsibilities seemed to melt away, washed clean by the rain.\\n\\nLater, with the pie cooling on the windowsill, they curled up on the sofa, a thick blanket pulled around them. Nana Rose started reading aloud from a worn copy of “Wuthering Heights.” Elara closed her eyes, letting the rhythmic cadence of her grandmother’s voice and the sound of the rain lull her into a state of blissful tranquility.\\n\\nThe day unfolded slowly, a gentle rhythm of baking, reading, and quiet conversation. They shared secrets and laughter, memories and dreams. The rain continued its relentless drumming, a soundtrack to their day of contentment.\\n\\nAs dusk began to settle, the rain finally began to subside. The clouds parted, revealing a sliver of pale blue sky. The air smelled clean and fresh, washed clean by the storm.\\n\\nElara watched as a single ray of sunlight broke through the clouds, illuminating the raindrops clinging to the leaves of the trees. It was a moment of unexpected beauty, a reminder that even on the darkest days, light can always be found.\\n\\nThat night, as Elara drifted off to sleep, she felt a profound sense of gratitude. The rainy day, which had initially seemed like a disappointment, had turned into a gift. It had been a day of connection, of comfort, and of rediscovering the simple joys of life.\\n\\nThe rain had washed away the stress and worries, leaving behind a sense of peace and renewal. And Elara knew, with a certainty that warmed her from the inside out, that she would always cherish the memory of that rainy day with Nana Rose, a day that reminded her that sometimes, the best moments in life are the ones you least expect.',\n",
       " 'topic': 'a rainy day',\n",
       " 'analysis': 'The overall mood of the story is one of **comfort, warmth, and peaceful contentment**, tinged with a hint of **melancholy and nostalgia.** Here\\'s a breakdown:\\n\\n*   **Initial Melancholy:** The story begins with a sense of gloom and a slight reluctance to face the day. The description of the grey light, the \"mournful melody\" of the floorboards, and Elara\\'s initial groan all contribute to this feeling. The rain is initially perceived as something that \"seeped into your bones.\"\\n\\n*   **Warmth and Comfort:** This feeling quickly shifts as Nana Rose and the aroma of coffee enter the scene. The baking, storytelling, and shared activities create a sense of cozy intimacy and connection. The apple pie and the memories associated with it evoke feelings of nostalgia and familial love.\\n\\n*   **Peaceful Contentment:** As the day progresses, the mood deepens into one of peaceful contentment. Elara finds solace in the simple pleasures of baking, reading, and spending time with her grandmother. The rain, initially a source of gloom, becomes a comforting backdrop to their day.\\n\\n*   **Gratitude and Renewal:** The ending reinforces this sense of peace and renewal. The clearing skies and the ray of sunlight symbolize hope and the possibility of finding beauty even in difficult times. Elara\\'s gratitude for the day and her realization that it was a gift solidifies the overall mood of contentment and appreciation.\\n\\n**Key Mood-Creating Elements:**\\n\\n*   **Sensory Details:** The descriptions of the rain (whisper, downpour, drumming), the aroma of coffee and apple pie, and the feel of the quilt and blanket all contribute to the mood.\\n*   **Imagery:** The \"grey light,\" \"mountain of mending,\" and \"flour-dusted cookbook\" create vivid images that enhance the emotional impact of the story.\\n*   **Character Interactions:** The gentle and loving interactions between Elara and Nana Rose are central to creating the warm and comforting mood.\\n*   **Themes:** The themes of family, tradition, and finding joy in simple pleasures all contribute to the story\\'s overall mood of peaceful contentment.'}"
      ]
     },
     "execution_count": 23,
     "metadata": {},
     "output_type": "execute_result"
    }
   ],
   "source": [
    "result"
   ]
  },
  {
   "cell_type": "code",
   "execution_count": null,
   "id": "baf1ab91",
   "metadata": {},
   "outputs": [],
   "source": []
  }
 ],
 "metadata": {
  "kernelspec": {
   "display_name": "Python 3 (ipykernel)",
   "language": "python",
   "name": "python3"
  },
  "language_info": {
   "codemirror_mode": {
    "name": "ipython",
    "version": 3
   },
   "file_extension": ".py",
   "mimetype": "text/x-python",
   "name": "python",
   "nbconvert_exporter": "python",
   "pygments_lexer": "ipython3",
   "version": "3.10.12"
  }
 },
 "nbformat": 4,
 "nbformat_minor": 5
}
