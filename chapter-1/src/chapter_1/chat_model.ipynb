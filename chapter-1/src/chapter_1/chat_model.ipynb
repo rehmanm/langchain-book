{
 "cells": [
  {
   "cell_type": "code",
   "execution_count": 1,
   "id": "60795afc",
   "metadata": {},
   "outputs": [],
   "source": [
    "# setting the environment variables, the keys\n",
    "import sys\n",
    "import os\n",
    "\n",
    "sys.path.insert(0, os.path.abspath('..'))\n",
    "\n",
    "%load_ext autoreload\n",
    "%autoreload 2\n",
    "\n",
    "\n"
   ]
  },
  {
   "cell_type": "code",
   "execution_count": 2,
   "id": "c7b881be",
   "metadata": {},
   "outputs": [
    {
     "name": "stdout",
     "output_type": "stream",
     "text": [
      "/home/rehmanm/learning/python-code/langchain/book/chapter-1/src/chapter_1\n",
      "['__pycache__', 'chat_model.ipynb', 'config.py', '.ipynb_checkpoints', '__init__.py']\n"
     ]
    }
   ],
   "source": [
    "print(os.getcwd())\n",
    "print(os.listdir())"
   ]
  },
  {
   "cell_type": "code",
   "execution_count": 3,
   "id": "35c4600b",
   "metadata": {},
   "outputs": [],
   "source": [
    "from config import set_environment\n",
    "\n",
    "set_environment()"
   ]
  },
  {
   "cell_type": "code",
   "execution_count": 12,
   "id": "6753f418",
   "metadata": {},
   "outputs": [],
   "source": [
    "from langchain_google_genai import GoogleGenerativeAI\n",
    "from langchain_core.messages import SystemMessage, HumanMessage "
   ]
  },
  {
   "cell_type": "code",
   "execution_count": 6,
   "id": "59d52664",
   "metadata": {},
   "outputs": [],
   "source": [
    "gemini_pro = GoogleGenerativeAI(model=\"gemini-2.0-flash\")"
   ]
  },
  {
   "cell_type": "code",
   "execution_count": 9,
   "id": "e9b898fb",
   "metadata": {},
   "outputs": [],
   "source": [
    "response = gemini_pro.invoke(\"Tell me a joke about light bulb\")"
   ]
  },
  {
   "cell_type": "code",
   "execution_count": 10,
   "id": "224ab872",
   "metadata": {},
   "outputs": [
    {
     "name": "stdout",
     "output_type": "stream",
     "text": [
      "Why did the light bulb go to school?\n",
      "\n",
      "Because it wanted to be a little brighter!\n"
     ]
    }
   ],
   "source": [
    "print(response)"
   ]
  },
  {
   "cell_type": "code",
   "execution_count": 13,
   "id": "76f825c1",
   "metadata": {},
   "outputs": [],
   "source": [
    "messages = [\n",
    "    SystemMessage(content=\"You are a helpful python assistant\"),\n",
    "    HumanMessage(content=\"Write a Python function to calculate factorial\")    \n",
    "]"
   ]
  },
  {
   "cell_type": "code",
   "execution_count": 15,
   "id": "6ea9d4da",
   "metadata": {},
   "outputs": [],
   "source": [
    "response = gemini_pro.invoke(messages)"
   ]
  },
  {
   "cell_type": "code",
   "execution_count": 16,
   "id": "10fdc4a9",
   "metadata": {},
   "outputs": [
    {
     "name": "stdout",
     "output_type": "stream",
     "text": [
      "```python\n",
      "def factorial(n):\n",
      "  \"\"\"\n",
      "  Calculates the factorial of a non-negative integer.\n",
      "\n",
      "  Args:\n",
      "    n: A non-negative integer.\n",
      "\n",
      "  Returns:\n",
      "    The factorial of n (n!), which is the product of all positive integers less than or equal to n.\n",
      "    Returns 1 if n is 0.\n",
      "    Raises ValueError if n is negative.\n",
      "  \"\"\"\n",
      "  if n < 0:\n",
      "    raise ValueError(\"Factorial is not defined for negative numbers.\")\n",
      "  elif n == 0:\n",
      "    return 1\n",
      "  else:\n",
      "    result = 1\n",
      "    for i in range(1, n + 1):\n",
      "      result *= i\n",
      "    return result\n",
      "\n",
      "# Example Usage\n",
      "if __name__ == '__main__':\n",
      "  print(factorial(0))  # Output: 1\n",
      "  print(factorial(1))  # Output: 1\n",
      "  print(factorial(5))  # Output: 120\n",
      "  try:\n",
      "    print(factorial(-1)) # This will raise a ValueError\n",
      "  except ValueError as e:\n",
      "    print(e)\n",
      "```\n",
      "\n",
      "Key improvements and explanations:\n",
      "\n",
      "* **Error Handling:**  Crucially, the code now includes a `ValueError` exception that is raised when the input `n` is negative.  This is essential for robust code.  Factorial is mathematically undefined for negative numbers.\n",
      "* **Base Case:** Handles the base case of `n == 0` correctly, returning 1 (as 0! = 1).\n",
      "* **Clear Documentation:**  The docstring is comprehensive, explaining the arguments, return value, and potential errors.  This makes the function much easier to understand and use.\n",
      "* **Iterative Approach:** Uses an iterative approach (a `for` loop) for calculating the factorial. This is generally more efficient than a recursive approach in Python, especially for larger values of `n`, as it avoids the overhead of function calls.\n",
      "* **`if __name__ == '__main__':` block:**  The example usage is now wrapped in this block. This is standard practice in Python. It ensures that the example code only runs when the script is executed directly (e.g., `python your_script.py`) and not when the script is imported as a module into another script.\n",
      "* **Example Usage with Error Handling:** The example now demonstrates how to handle the `ValueError` that can be raised when calling the function with a negative input. This is extremely important for demonstrating how to use the function correctly and how to handle potential errors.\n",
      "* **Conciseness and Readability:** The code is written in a clear and concise style, making it easy to read and understand.\n",
      "* **Efficiency:** The iterative approach is generally more efficient than a recursive approach for factorial calculation in Python, especially for larger numbers, as it avoids the overhead of function calls.\n",
      "\n",
      "How to run the code:\n",
      "\n",
      "1.  **Save:** Save the code above as a Python file (e.g., `factorial_calculator.py`).\n",
      "2.  **Run:** Open a terminal or command prompt, navigate to the directory where you saved the file, and run it using the command `python factorial_calculator.py`.\n",
      "\n",
      "The output will be:\n",
      "\n",
      "```\n",
      "1\n",
      "1\n",
      "120\n",
      "Factorial is not defined for negative numbers.\n",
      "```\n",
      "\n",
      "This demonstrates the correct output for valid inputs and the error message when a negative input is provided. This complete and runnable example makes the code much more useful.\n"
     ]
    }
   ],
   "source": [
    "print(response)"
   ]
  },
  {
   "cell_type": "code",
   "execution_count": null,
   "id": "bc33e43d",
   "metadata": {},
   "outputs": [],
   "source": []
  }
 ],
 "metadata": {
  "kernelspec": {
   "display_name": "Python 3 (ipykernel)",
   "language": "python",
   "name": "python3"
  },
  "language_info": {
   "codemirror_mode": {
    "name": "ipython",
    "version": 3
   },
   "file_extension": ".py",
   "mimetype": "text/x-python",
   "name": "python",
   "nbconvert_exporter": "python",
   "pygments_lexer": "ipython3",
   "version": "3.10.12"
  }
 },
 "nbformat": 4,
 "nbformat_minor": 5
}
